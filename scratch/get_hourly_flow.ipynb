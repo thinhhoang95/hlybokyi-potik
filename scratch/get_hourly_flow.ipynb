{
 "cells": [
  {
   "cell_type": "code",
   "execution_count": 1,
   "metadata": {},
   "outputs": [],
   "source": [
    "%load_ext autoreload\n",
    "%autoreload 2"
   ]
  },
  {
   "cell_type": "code",
   "execution_count": 2,
   "metadata": {},
   "outputs": [],
   "source": [
    "from matplotlib import pyplot as plt\n",
    "import pandas as pd\n",
    "\n",
    "import os\n",
    "import sys\n",
    "\n",
    "# Get the current directory\n",
    "current_dir = os.path.dirname(os.path.abspath('__file__'))\n",
    "\n",
    "# Get the parent directory\n",
    "parent_dir = os.path.dirname(current_dir)\n",
    "\n",
    "# Add the parent directory to sys.path\n",
    "sys.path.append(parent_dir)\n",
    "sys.path.append(os.path.join(parent_dir, 'turning_scripts'))\n",
    "\n",
    "from data_preambles import dtypes_no_id, col_names, csv_to_exclude, catalog_col_names\n",
    "from path_prefix import PATH_PREFIX\n",
    "\n"
   ]
  },
  {
   "cell_type": "code",
   "execution_count": null,
   "metadata": {},
   "outputs": [],
   "source": [
    "# Load one CSV file\n",
    "hour_df = pd.read_csv(f'{PATH_PREFIX}/data/csv/1716508800.csv', dtype=dtypes_no_id, parse_dates=True)\n",
    "hour_df.columns = col_names\n",
    "hour_df.head(5)\n",
    "# Add an id column\n",
    "hour_df['id'] = hour_df['icao24'] + hour_df['callsign']\n",
    "hour_df.head(5)\n"
   ]
  },
  {
   "cell_type": "code",
   "execution_count": null,
   "metadata": {},
   "outputs": [],
   "source": [
    "hour_ids = hour_df['id'].unique()\n",
    "print(f'There are {len(hour_ids)} unique ids in the hour_df')"
   ]
  },
  {
   "cell_type": "code",
   "execution_count": 6,
   "metadata": {},
   "outputs": [],
   "source": [
    "from get_turns import get_turning_points, TurnAndRise\n",
    "from collections import deque\n",
    "from tqdm import tqdm\n",
    "from cleaning_script import clean_by_speed as cleaner\n",
    "\n",
    "# Note that get_turning_points will automatically add the first and last point to the list of turning points\n",
    "# So we don't need to add them manually"
   ]
  },
  {
   "cell_type": "code",
   "execution_count": null,
   "metadata": {},
   "outputs": [],
   "source": [
    "# For each callsign, we attempt to get the turning points\n",
    "print('Creating segments...')\n",
    "print('Caution: will skip N/A rows')\n",
    "\n",
    "seg_from_lat = deque()\n",
    "seg_from_lon = deque()\n",
    "seg_to_lat = deque()\n",
    "seg_to_lon = deque()\n",
    "\n",
    "callsigns_skipped = 0\n",
    "for id in tqdm(hour_ids):\n",
    "    try:\n",
    "        df_id = hour_df[hour_df['id'] == id]\n",
    "        # Clean the dataframe\n",
    "        df_id = cleaner.clean_trajectory(df_id)\n",
    "        tr = get_turning_points(df_id)\n",
    "    except ValueError as e:\n",
    "        # print(f'Skipping {id} because {e}')\n",
    "        callsigns_skipped += 1\n",
    "        continue\n",
    "\n",
    "    # For each turn, we get the segment from and to\n",
    "    for i in range(len(tr['tp_time']) - 1):\n",
    "        seg_from_lat.append(tr['tp_lat'][i])\n",
    "        seg_from_lon.append(tr['tp_lon'][i])\n",
    "        seg_to_lat.append(tr['tp_lat'][i+1])\n",
    "        seg_to_lon.append(tr['tp_lon'][i+1])\n",
    "\n",
    "print(f'There were {len(hour_ids)} callsigns, of which {callsigns_skipped} were skipped')\n",
    "    "
   ]
  },
  {
   "cell_type": "code",
   "execution_count": 7,
   "metadata": {},
   "outputs": [],
   "source": [
    "from datetime import datetime, timezone\n",
    "\n",
    "timestamp = 1716508800\n",
    "\n",
    "# Convert timestamp to datetime object in UTC\n",
    "utc_datetime = datetime.fromtimestamp(timestamp, tz=timezone.utc)\n",
    "\n",
    "# Format the datetime as a string\n",
    "formatted_datetime = utc_datetime.strftime(\"%Y-%m-%d %H:%M:%S %Z\")"
   ]
  },
  {
   "cell_type": "code",
   "execution_count": null,
   "metadata": {},
   "outputs": [],
   "source": [
    "# Plot all the segments on a map\n",
    "\n",
    "import matplotlib.pyplot as plt\n",
    "import cartopy.crs as ccrs\n",
    "import cartopy.feature as cfeature\n",
    "\n",
    "# Create a new figure and axis with a map projection\n",
    "fig, ax = plt.subplots(figsize=(12, 10), subplot_kw={'projection': ccrs.PlateCarree()})\n",
    "ax.set_aspect('auto')  # This allows the aspect ratio to adjust naturally\n",
    "\n",
    "# Add map features\n",
    "ax.add_feature(cfeature.LAND)\n",
    "ax.add_feature(cfeature.OCEAN)\n",
    "ax.add_feature(cfeature.COASTLINE)\n",
    "ax.add_feature(cfeature.BORDERS, linestyle=':')\n",
    "\n",
    "# Set the extent of the map to cover Europe\n",
    "ax.set_extent([-10, 30, 35, 60], crs=ccrs.PlateCarree())\n",
    "\n",
    "# Plot the segments\n",
    "for from_lat, from_lon, to_lat, to_lon in zip(seg_from_lat, seg_from_lon, seg_to_lat, seg_to_lon):\n",
    "    ax.plot([from_lon, to_lon], [from_lat, to_lat], \n",
    "            color='red', linewidth=0.5, alpha=0.5, \n",
    "            transform=ccrs.Geodetic())\n",
    "\n",
    "# Add gridlines\n",
    "ax.gridlines(draw_labels=True, dms=True, x_inline=False, y_inline=False)\n",
    "\n",
    "# Add a title\n",
    "plt.title(f'Flight Segments over Europe, {formatted_datetime}')\n",
    "\n",
    "# Show the plot\n",
    "plt.show()\n",
    "# Create a directory for the plots if it doesn't exist\n",
    "# os.makedirs(f'{PATH_PREFIX}/data/plots', exist_ok=True)\n",
    "# plt.savefig(f'{PATH_PREFIX}/data/plots/flight_segments_{timestamp}.png')"
   ]
  },
  {
   "cell_type": "code",
   "execution_count": null,
   "metadata": {},
   "outputs": [],
   "source": [
    "# Save the segments to a pickle file\n",
    "import pickle\n",
    "\n",
    "# Create a dictionary to store the segment data\n",
    "segment_data = {\n",
    "    'seg_from_lat': seg_from_lat,\n",
    "    'seg_from_lon': seg_from_lon,\n",
    "    'seg_to_lat': seg_to_lat,\n",
    "    'seg_to_lon': seg_to_lon\n",
    "}\n",
    "\n",
    "# Create a directory for the pickle files if it doesn't exist\n",
    "os.makedirs(f'{PATH_PREFIX}/data/segments', exist_ok=True)\n",
    "\n",
    "# Save the segment data to a pickle file\n",
    "with open(f'{PATH_PREFIX}/data/segments/flight_segments_{timestamp}.segments.pickle', 'wb') as f:\n",
    "    pickle.dump(segment_data, f)\n",
    "\n",
    "print(f\"Segment data saved to {PATH_PREFIX}/data/segments/flight_segments_{timestamp}.segments.pickle\")\n"
   ]
  },
  {
   "cell_type": "code",
   "execution_count": null,
   "metadata": {},
   "outputs": [],
   "source": []
  }
 ],
 "metadata": {
  "kernelspec": {
   "display_name": "deepflow",
   "language": "python",
   "name": "python3"
  },
  "language_info": {
   "codemirror_mode": {
    "name": "ipython",
    "version": 3
   },
   "file_extension": ".py",
   "mimetype": "text/x-python",
   "name": "python",
   "nbconvert_exporter": "python",
   "pygments_lexer": "ipython3",
   "version": "3.12.4"
  }
 },
 "nbformat": 4,
 "nbformat_minor": 2
}
