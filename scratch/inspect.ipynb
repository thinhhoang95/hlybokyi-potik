{
 "cells": [
  {
   "cell_type": "code",
   "execution_count": 1,
   "metadata": {},
   "outputs": [],
   "source": [
    "import pandas as pd\n",
    "import sys, os\n",
    "\n",
    "# Import the path prefix from the parent directory\n",
    "# Get the current notebook's directory\n",
    "notebook_dir = os.path.dirname(os.path.abspath(''))\n",
    "\n",
    "# Add the parent directory to sys.path\n",
    "sys.path.append(notebook_dir)\n",
    "\n",
    "# Now we can import PATH_PREFIX\n",
    "from path_prefix import PATH_PREFIX\n"
   ]
  },
  {
   "cell_type": "code",
   "execution_count": 2,
   "metadata": {},
   "outputs": [],
   "source": [
    "df = pd.read_csv(PATH_PREFIX + '/data/csv/2022-05-23-02.csv.gz', compression='gzip')"
   ]
  },
  {
   "cell_type": "code",
   "execution_count": 3,
   "metadata": {},
   "outputs": [
    {
     "data": {
      "text/html": [
       "<div>\n",
       "<style scoped>\n",
       "    .dataframe tbody tr th:only-of-type {\n",
       "        vertical-align: middle;\n",
       "    }\n",
       "\n",
       "    .dataframe tbody tr th {\n",
       "        vertical-align: top;\n",
       "    }\n",
       "\n",
       "    .dataframe thead th {\n",
       "        text-align: right;\n",
       "    }\n",
       "</style>\n",
       "<table border=\"1\" class=\"dataframe\">\n",
       "  <thead>\n",
       "    <tr style=\"text-align: right;\">\n",
       "      <th></th>\n",
       "      <th>id</th>\n",
       "      <th>lat</th>\n",
       "      <th>lon</th>\n",
       "      <th>velocity</th>\n",
       "      <th>heading</th>\n",
       "      <th>vertrate</th>\n",
       "      <th>baroaltitude</th>\n",
       "      <th>geoaltitude</th>\n",
       "      <th>lastposupdate</th>\n",
       "    </tr>\n",
       "  </thead>\n",
       "  <tbody>\n",
       "    <tr>\n",
       "      <th>0</th>\n",
       "      <td>EDV5461 a399b9</td>\n",
       "      <td>45.368134</td>\n",
       "      <td>-91.821115</td>\n",
       "      <td>240.430344</td>\n",
       "      <td>79.146885</td>\n",
       "      <td>1.30048</td>\n",
       "      <td>7299.96</td>\n",
       "      <td>7322.82</td>\n",
       "      <td>1.653271e+09</td>\n",
       "    </tr>\n",
       "    <tr>\n",
       "      <th>1</th>\n",
       "      <td>UAL526  a1b5e7</td>\n",
       "      <td>43.532730</td>\n",
       "      <td>7.989105</td>\n",
       "      <td>241.907411</td>\n",
       "      <td>292.638610</td>\n",
       "      <td>0.00000</td>\n",
       "      <td>11582.40</td>\n",
       "      <td>11948.16</td>\n",
       "      <td>1.653271e+09</td>\n",
       "    </tr>\n",
       "    <tr>\n",
       "      <th>2</th>\n",
       "      <td>SKW3885 ab3d9a</td>\n",
       "      <td>44.725250</td>\n",
       "      <td>-92.588392</td>\n",
       "      <td>203.293272</td>\n",
       "      <td>121.759480</td>\n",
       "      <td>13.00480</td>\n",
       "      <td>5196.84</td>\n",
       "      <td>5242.56</td>\n",
       "      <td>1.653271e+09</td>\n",
       "    </tr>\n",
       "    <tr>\n",
       "      <th>3</th>\n",
       "      <td>DAL954  a47597</td>\n",
       "      <td>39.423228</td>\n",
       "      <td>-103.957947</td>\n",
       "      <td>170.656669</td>\n",
       "      <td>304.312823</td>\n",
       "      <td>-2.60096</td>\n",
       "      <td>6134.10</td>\n",
       "      <td>6294.12</td>\n",
       "      <td>1.653271e+09</td>\n",
       "    </tr>\n",
       "    <tr>\n",
       "      <th>4</th>\n",
       "      <td>SKW5579 aaac21</td>\n",
       "      <td>31.921783</td>\n",
       "      <td>-93.596100</td>\n",
       "      <td>227.459307</td>\n",
       "      <td>43.258745</td>\n",
       "      <td>4.22656</td>\n",
       "      <td>10507.98</td>\n",
       "      <td>11026.14</td>\n",
       "      <td>1.653271e+09</td>\n",
       "    </tr>\n",
       "  </tbody>\n",
       "</table>\n",
       "</div>"
      ],
      "text/plain": [
       "               id        lat         lon    velocity     heading  vertrate  \\\n",
       "0  EDV5461 a399b9  45.368134  -91.821115  240.430344   79.146885   1.30048   \n",
       "1  UAL526  a1b5e7  43.532730    7.989105  241.907411  292.638610   0.00000   \n",
       "2  SKW3885 ab3d9a  44.725250  -92.588392  203.293272  121.759480  13.00480   \n",
       "3  DAL954  a47597  39.423228 -103.957947  170.656669  304.312823  -2.60096   \n",
       "4  SKW5579 aaac21  31.921783  -93.596100  227.459307   43.258745   4.22656   \n",
       "\n",
       "   baroaltitude  geoaltitude  lastposupdate  \n",
       "0       7299.96      7322.82   1.653271e+09  \n",
       "1      11582.40     11948.16   1.653271e+09  \n",
       "2       5196.84      5242.56   1.653271e+09  \n",
       "3       6134.10      6294.12   1.653271e+09  \n",
       "4      10507.98     11026.14   1.653271e+09  "
      ]
     },
     "execution_count": 3,
     "metadata": {},
     "output_type": "execute_result"
    }
   ],
   "source": [
    "df.head()"
   ]
  },
  {
   "cell_type": "code",
   "execution_count": null,
   "metadata": {},
   "outputs": [],
   "source": []
  }
 ],
 "metadata": {
  "kernelspec": {
   "display_name": "deepflow",
   "language": "python",
   "name": "python3"
  },
  "language_info": {
   "codemirror_mode": {
    "name": "ipython",
    "version": 3
   },
   "file_extension": ".py",
   "mimetype": "text/x-python",
   "name": "python",
   "nbconvert_exporter": "python",
   "pygments_lexer": "ipython3",
   "version": "3.12.4"
  }
 },
 "nbformat": 4,
 "nbformat_minor": 2
}
