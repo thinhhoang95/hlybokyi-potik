{
 "cells": [
  {
   "cell_type": "code",
   "execution_count": 5,
   "metadata": {},
   "outputs": [
    {
     "name": "stdout",
     "output_type": "stream",
     "text": [
      "CSV file has been converted and saved to /Users/thinhhoang/Documents/hlybokyi-potik/data/airports_converted.csv\n"
     ]
    }
   ],
   "source": [
    "import csv\n",
    "\n",
    "import sys, os\n",
    "\n",
    "# Import the path prefix from the parent directory\n",
    "# Get the current notebook's directory\n",
    "notebook_dir = os.path.dirname(os.path.abspath(''))\n",
    "\n",
    "# Add the parent directory to sys.path\n",
    "sys.path.append(notebook_dir)\n",
    "\n",
    "# Now we can import PATH_PREFIX\n",
    "from path_prefix import PATH_PREFIX\n",
    "\n",
    "\n",
    "# Input and output file names\n",
    "input_filename = PATH_PREFIX + '/data/airports.csv'\n",
    "output_filename = PATH_PREFIX + '/data/airports_converted.csv'\n",
    "\n",
    "# Open the input CSV file for reading\n",
    "with open(input_filename, mode='r', newline='', encoding='utf-8') as infile:\n",
    "    # Open the output CSV file for writing\n",
    "    with open(output_filename, mode='w', newline='', encoding='utf-8') as outfile:\n",
    "        reader = csv.reader(infile)\n",
    "        writer = csv.writer(outfile, quoting=csv.QUOTE_NONE, escapechar='\\\\')\n",
    "\n",
    "        # Write all rows from the input file to the output file\n",
    "        for row in reader:\n",
    "            writer.writerow(row)\n",
    "\n",
    "print(f\"CSV file has been converted and saved to {output_filename}\")\n"
   ]
  },
  {
   "cell_type": "code",
   "execution_count": null,
   "metadata": {},
   "outputs": [],
   "source": []
  }
 ],
 "metadata": {
  "kernelspec": {
   "display_name": "deepflow",
   "language": "python",
   "name": "python3"
  },
  "language_info": {
   "codemirror_mode": {
    "name": "ipython",
    "version": 3
   },
   "file_extension": ".py",
   "mimetype": "text/x-python",
   "name": "python",
   "nbconvert_exporter": "python",
   "pygments_lexer": "ipython3",
   "version": "3.12.4"
  }
 },
 "nbformat": 4,
 "nbformat_minor": 2
}
