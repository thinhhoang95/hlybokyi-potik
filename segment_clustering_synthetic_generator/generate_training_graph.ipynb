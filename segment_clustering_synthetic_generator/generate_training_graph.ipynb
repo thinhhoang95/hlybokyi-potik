{
 "cells": [
  {
   "cell_type": "code",
   "execution_count": 3,
   "metadata": {},
   "outputs": [
    {
     "name": "stdout",
     "output_type": "stream",
     "text": [
      "The autoreload extension is already loaded. To reload it, use:\n",
      "  %reload_ext autoreload\n",
      "Parent directory: /Volumes/CrucialX/hlybokyi-potik\n"
     ]
    }
   ],
   "source": [
    "import numpy as np \n",
    "from matplotlib import pyplot as plt\n",
    "\n",
    "%load_ext autoreload\n",
    "%autoreload 2\n",
    "\n",
    "import os\n",
    "import sys\n",
    "\n",
    "# Get the current notebook's directory\n",
    "notebook_dir = os.path.dirname(os.path.abspath(\"__file__\"))\n",
    "\n",
    "# Get the parent directory\n",
    "parent_dir = os.path.dirname(notebook_dir)\n",
    "print(f'Parent directory: {parent_dir}')\n",
    "\n",
    "# Add the parent directory to sys.path if it's not already there\n",
    "if parent_dir not in sys.path:\n",
    "    sys.path.append(parent_dir)"
   ]
  },
  {
   "cell_type": "markdown",
   "metadata": {},
   "source": [
    "# Generate Synthetic Training Data\n",
    "\n",
    "We use **spectral clustering** to generate the synthetic training data for the **s1** model. The following steps are executed:\n",
    "\n",
    "- All points are 2D numpy array of (longitude, latitude)\n",
    "\n",
    "- Sample a number of flows, which follow a categorical distribution from 1-5.\n",
    "\n",
    "- Create a flow, which is a polyline. The polyline is constructed by choosing two endpoints first (called point 1 and point 2). With probability 50%, another point (point 3) can be added between 20% to 80% of the polyline, such that the distance between the original segment and the new point is limited to some epsilon percentage of the segment length. The complete flow is either represented by the segment (in case of no third point), or by (point 1, point 3, point 2).\n",
    "\n",
    "- Create a set of segments belonging to this flow. Choose any random starting point of the segment from the polyline. Sample the random angle deviation delta_theta from a Gaussian distribution, compute the actual angle \n"
   ]
  },
  {
   "cell_type": "code",
   "execution_count": null,
   "metadata": {},
   "outputs": [],
   "source": []
  }
 ],
 "metadata": {
  "kernelspec": {
   "display_name": "deepflow",
   "language": "python",
   "name": "python3"
  },
  "language_info": {
   "codemirror_mode": {
    "name": "ipython",
    "version": 3
   },
   "file_extension": ".py",
   "mimetype": "text/x-python",
   "name": "python",
   "nbconvert_exporter": "python",
   "pygments_lexer": "ipython3",
   "version": "3.12.4"
  }
 },
 "nbformat": 4,
 "nbformat_minor": 2
}
