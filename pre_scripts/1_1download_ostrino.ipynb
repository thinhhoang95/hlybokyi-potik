{
 "cells": [
  {
   "cell_type": "markdown",
   "metadata": {},
   "source": [
    "# Download data from OpenSky API\n",
    "\n",
    "Contrary to the osstate_vector database, this one will download data directly from the Trino database."
   ]
  },
  {
   "cell_type": "code",
   "execution_count": 17,
   "metadata": {},
   "outputs": [],
   "source": [
    "import traffic \n",
    "import os\n",
    "import sys\n",
    "# Get the current notebook's absolute directory\n",
    "notebook_dir = os.path.abspath('')\n",
    "# Add the parent directory to the Python path\n",
    "parent_dir = os.path.abspath(os.path.join(notebook_dir, '..'))\n",
    "sys.path.append(parent_dir)\n",
    "\n",
    "from path_prefix import PATH_PREFIX"
   ]
  },
  {
   "cell_type": "code",
   "execution_count": 1,
   "metadata": {},
   "outputs": [],
   "source": [
    "# Columns: time,icao24,lat,lon,velocity,heading,vertrate,callsign,onground,alert,spi,squawk,baroaltitude,geoaltitude,lastposupdate,lastcontact,serials,hour\n",
    "# Table name: state_vectors_data4"
   ]
  },
  {
   "cell_type": "markdown",
   "metadata": {},
   "source": [
    "Some cool working SQL commands:\n",
    "\n",
    "SELECT DISTINCT callsign, rand() AS random_value \n",
    "FROM state_vectors_data4 TABLESAMPLE BERNOULLI(1) \n",
    "WHERE lat BETWEEN 35 AND 72  \n",
    "    AND lon BETWEEN -10 AND 40  \n",
    "    AND hour = 1480762800\n",
    "ORDER BY random_value\n",
    "LIMIT 2000;\n",
    "\n",
    "./trino.jar --user=thinhhoangdinh --password --server=https://trino.opensky-network.org --external-authentication --catalog \"minio\" --schema \"osky\" --execute=\"SELECT DISTINCT callsign, rand() AS random_value \n",
    "> FROM state_vectors_data4 TABLESAMPLE BERNOULLI(1) \n",
    "> WHERE lat BETWEEN 35 AND 72  \n",
    ">     AND lon BETWEEN -10 AND 40  \n",
    ">     AND hour = 1716520680\n",
    ">     AND time-lastcontact <= 15\n",
    "> ORDER BY random_value\n",
    "> LIMIT 2000;\" --output-format CSV > output.csv\n",
    "\n",
    "SELECT * FROM state_vectors_data4 v JOIN (SELECT QUOTIENT(time, 60) AS minute, MAX(time) AS recent, icao24 FROM state_vectors_data4 WHERE hour=1480762800 GROUP BY icao24, minute) AS m ON v.icao24=m.icao24 AND v.time=m.recent WHERE v.hour=1480762800;\n",
    "\n",
    "SELECT v.*  -- Select all columns from the main table (v)\n",
    "FROM state_vectors_data4 v \n",
    "JOIN (\n",
    "    SELECT \n",
    "        QUOTIENT(time, 60) AS minute, \n",
    "        MAX(time) AS recent_time \n",
    "    FROM state_vectors_data4 \n",
    "    WHERE hour = 1716520680  -- Use your original hour value\n",
    "    GROUP BY minute\n",
    ") AS m ON QUOTIENT(v.time, 60) = m.minute AND v.time = m.recent_time\n",
    "WHERE \n",
    "    v.lat BETWEEN 35 AND 72  \n",
    "    AND v.lon BETWEEN -10 AND 40  \n",
    "    AND v.hour = 1716520680\n",
    "    AND v.time - v.lastcontact <= 15\n",
    "LIMIT 50000;\n",
    "\n",
    "SELECT v.*  -- Select all columns from the main table (v)\n",
    "FROM state_vectors_data4 v \n",
    "WHERE \n",
    "    v.lat BETWEEN 35 AND 72  \n",
    "    AND v.lon BETWEEN -10 AND 40  \n",
    "    AND v.hour = 1716520680\n",
    "    AND v.time - v.lastcontact <= 15\n",
    "LIMIT 2000; \n",
    "\n"
   ]
  },
  {
   "cell_type": "markdown",
   "metadata": {},
   "source": [
    "To create our dataset, we will: \n",
    "- sample 2000 callsigns for each hour, obtain the callsign list\n"
   ]
  },
  {
   "cell_type": "code",
   "execution_count": 14,
   "metadata": {},
   "outputs": [
    {
     "name": "stdout",
     "output_type": "stream",
     "text": [
      "10AM May 24, 2024 (Hanoi time) in Unix timestamp: 1716519600\n"
     ]
    }
   ],
   "source": [
    "from datetime import datetime, timezone\n",
    "from zoneinfo import ZoneInfo\n",
    "\n",
    "# Define the date and time in Hanoi time\n",
    "hanoi_time = datetime(2024, 5, 24, 10, 0, 0, tzinfo=ZoneInfo(\"Asia/Ho_Chi_Minh\"))\n",
    "\n",
    "# Convert to UTC\n",
    "utc_time = hanoi_time.astimezone(timezone.utc)\n",
    "\n",
    "# Convert to Unix timestamp\n",
    "unix_timestamp = int(utc_time.timestamp())\n",
    "\n",
    "print(f\"10AM May 24, 2024 (Hanoi time) in Unix timestamp: {unix_timestamp}\")\n"
   ]
  },
  {
   "cell_type": "code",
   "execution_count": 5,
   "metadata": {},
   "outputs": [
    {
     "name": "stdout",
     "output_type": "stream",
     "text": [
      "The Unix timestamp 1590364810 corresponds to: 2020-05-25 00:00:10 UTC\n"
     ]
    }
   ],
   "source": [
    "from datetime import datetime, timezone\n",
    "\n",
    "unix_timestamp = 1590364810\n",
    "\n",
    "# Convert Unix timestamp to datetime object in UTC\n",
    "utc_datetime = datetime.fromtimestamp(unix_timestamp, tz=timezone.utc)\n",
    "\n",
    "# Format the datetime object as a string\n",
    "formatted_datetime = utc_datetime.strftime(\"%Y-%m-%d %H:%M:%S %Z\")\n",
    "\n",
    "print(f\"The Unix timestamp {unix_timestamp} corresponds to: {formatted_datetime}\")\n"
   ]
  },
  {
   "cell_type": "markdown",
   "metadata": {},
   "source": [
    "v.time, v.icao24, v.lat, v.lon, v.heading, v.callsign, v.geoaltitude\n",
    "\n",
    "SELECT v.time, v.icao24, v.lat, v.lon, v.heading, v.callsign, v.geoaltitude  FROM state_vectors_data4 v WHERE v.lat BETWEEN 35 AND 72 AND v.lon BETWEEN -10 AND 40 AND v.hour = 1716519600 AND v.time - v.lastcontact <= 15 LIMIT 20000;"
   ]
  },
  {
   "cell_type": "markdown",
   "metadata": {},
   "source": [
    "SELECT \n",
    "    v.time, v.icao24, v.lat, v.lon, v.heading, v.callsign, v.geoaltitude  -- Select all columns from the main table (state_vectors_data4)\n",
    "\n",
    "FROM \n",
    "    state_vectors_data4 v  -- Main table alias 'v'\n",
    "\n",
    "JOIN (\n",
    "    SELECT \n",
    "        FLOOR(time / 60) AS minute,  -- Calculate the minute from the timestamp\n",
    "        MAX(time) AS recent_time     -- Get the most recent timestamp within each minute\n",
    "    FROM \n",
    "        state_vectors_data4\n",
    "    WHERE \n",
    "        hour = 1716519600  -- Filter by the specific hour\n",
    "    GROUP BY \n",
    "        FLOOR(time / 60)  -- Group by minute\n",
    ") AS m  -- Subquery alias 'm'\n",
    "\n",
    "ON \n",
    "    FLOOR(v.time / 60) = m.minute  -- Join condition: Match minutes between main table and subquery\n",
    "    AND v.time = m.recent_time     -- Join condition: Select only the most recent record within each minute\n",
    "\n",
    "WHERE \n",
    "    v.lat BETWEEN 35 AND 72        -- Filter by latitude range\n",
    "    AND v.lon BETWEEN -10 AND 40     -- Filter by longitude range\n",
    "    AND v.hour = 1716519600         -- Filter by the specific hour\n",
    "    AND v.time - v.lastcontact <= 15  -- Filter based on time difference\n",
    "\n",
    "LIMIT 2000;  -- Limit the result to 2000 rows"
   ]
  },
  {
   "cell_type": "markdown",
   "metadata": {},
   "source": [
    "./trino.jar --user=thinhhoangdinh --password --server=https://trino.opensky-network.org --external-authentication --catalog \"minio\" --schema \"osky\" --execute=\"SELECT \\\n",
    "    v.time, v.icao24, v.lat, v.lon, v.heading, v.callsign, v.geoaltitude \\\n",
    "FROM \\\n",
    "    state_vectors_data4 v \\\n",
    "JOIN ( \\\n",
    "    SELECT \\\n",
    "        FLOOR(time / 60) AS minute, \\\n",
    "        MAX(time) AS recent_time \\\n",
    "    FROM \\\n",
    "        state_vectors_data4 \\\n",
    "    WHERE \\\n",
    "        hour = 1716519600 \\\n",
    "    GROUP BY \\\n",
    "        FLOOR(time / 60) \\\n",
    ") AS m \\\n",
    "ON \\\n",
    "    FLOOR(v.time / 60) = m.minute \\\n",
    "    AND v.time = m.recent_time \\\n",
    "WHERE \\\n",
    "    v.lat BETWEEN 35 AND 72 \\\n",
    "    AND v.lon BETWEEN -10 AND 40 \\\n",
    "    AND v.hour = 1716519600 \\\n",
    "    AND v.time - v.lastcontact <= 15;\" --output-format CSV > 1716519600.csv "
   ]
  },
  {
   "cell_type": "markdown",
   "metadata": {},
   "source": [
    "# Shell Commands Automation"
   ]
  },
  {
   "cell_type": "code",
   "execution_count": 19,
   "metadata": {},
   "outputs": [],
   "source": [
    "import subprocess\n",
    "import datetime\n",
    "import pandas as pd\n",
    "\n",
    "def execute_trino_commands(from_datetime, to_datetime):\n",
    "    \"\"\"\n",
    "    Executes Trino shell commands for each hour within the specified datetime range.\n",
    "\n",
    "    Args:\n",
    "        from_datetime (datetime): The starting datetime.\n",
    "        to_datetime (datetime): The ending datetime.\n",
    "    \"\"\"\n",
    "\n",
    "    # Generate a list of Unix timestamps representing the beginning of each hour \n",
    "    hourly_timestamps = pd.date_range(from_datetime, to_datetime, freq='H').astype(int) // 10**9\n",
    "\n",
    "    for timestamp in hourly_timestamps:\n",
    "        print(\"Current timestamp: \", timestamp)\n",
    "        # Construct the shell command, incorporating the timestamp into the relevant parts\n",
    "        command = f\"./trino.jar --user=thinhhoangdinh --password --server=https://trino.opensky-network.org --external-authentication --catalog 'minio' --schema 'osky' --execute='SELECT \\\n",
    "            v.time, v.icao24, v.lat, v.lon, v.heading, v.callsign, v.geoaltitude \\\n",
    "        FROM \\\n",
    "            state_vectors_data4 v \\\n",
    "        JOIN ( \\\n",
    "            SELECT \\\n",
    "                FLOOR(time / 60) AS minute, \\\n",
    "                MAX(time) AS recent_time \\\n",
    "            FROM \\\n",
    "                state_vectors_data4 \\\n",
    "            WHERE \\\n",
    "                hour = {timestamp} \\\n",
    "            GROUP BY \\\n",
    "                FLOOR(time / 60) \\\n",
    "        ) AS m \\\n",
    "        ON \\\n",
    "            FLOOR(v.time / 60) = m.minute \\\n",
    "            AND v.time = m.recent_time \\\n",
    "        WHERE \\\n",
    "            v.lat BETWEEN 35 AND 72 \\\n",
    "            AND v.lon BETWEEN -10 AND 40 \\\n",
    "            AND v.hour = {timestamp} \\\n",
    "            AND v.time - v.lastcontact <= 15;' --output-format CSV > {timestamp}.csv\" \n",
    "\n",
    "        # Execute the shell command\n",
    "        subprocess.run(command, shell=True)  # Use shell=True for proper command parsing\n"
   ]
  },
  {
   "cell_type": "code",
   "execution_count": 20,
   "metadata": {},
   "outputs": [
    {
     "name": "stderr",
     "output_type": "stream",
     "text": [
      "/var/folders/lm/mmss816142xg1l8dk_cq_j_h0000gn/T/ipykernel_2828/4063359239.py:15: FutureWarning: 'H' is deprecated and will be removed in a future version, please use 'h' instead.\n",
      "  hourly_timestamps = pd.date_range(from_datetime, to_datetime, freq='H').astype(int) // 10**9\n"
     ]
    },
    {
     "name": "stdout",
     "output_type": "stream",
     "text": [
      "Current timestamp:  1716519600\n"
     ]
    },
    {
     "name": "stderr",
     "output_type": "stream",
     "text": [
      "Sep 03, 2024 9:20:55 AM org.jline.utils.Log logr\n",
      "WARNING: Unable to create a system terminal, creating a dumb terminal (enable debug logging for more information)\n"
     ]
    },
    {
     "ename": "KeyboardInterrupt",
     "evalue": "",
     "output_type": "error",
     "traceback": [
      "\u001b[0;31m---------------------------------------------------------------------------\u001b[0m",
      "\u001b[0;31mKeyboardInterrupt\u001b[0m                         Traceback (most recent call last)",
      "Cell \u001b[0;32mIn[20], line 5\u001b[0m\n\u001b[1;32m      2\u001b[0m from_datetime \u001b[38;5;241m=\u001b[39m datetime\u001b[38;5;241m.\u001b[39mdatetime(\u001b[38;5;241m2024\u001b[39m, \u001b[38;5;241m5\u001b[39m, \u001b[38;5;241m24\u001b[39m, \u001b[38;5;241m3\u001b[39m, \u001b[38;5;241m0\u001b[39m, \u001b[38;5;241m0\u001b[39m)  \u001b[38;5;66;03m# Adjust as needed\u001b[39;00m\n\u001b[1;32m      3\u001b[0m to_datetime \u001b[38;5;241m=\u001b[39m datetime\u001b[38;5;241m.\u001b[39mdatetime(\u001b[38;5;241m2024\u001b[39m, \u001b[38;5;241m5\u001b[39m, \u001b[38;5;241m24\u001b[39m, \u001b[38;5;241m4\u001b[39m, \u001b[38;5;241m0\u001b[39m, \u001b[38;5;241m0\u001b[39m)    \u001b[38;5;66;03m# Adjust as needed\u001b[39;00m\n\u001b[0;32m----> 5\u001b[0m \u001b[43mexecute_trino_commands\u001b[49m\u001b[43m(\u001b[49m\u001b[43mfrom_datetime\u001b[49m\u001b[43m,\u001b[49m\u001b[43m \u001b[49m\u001b[43mto_datetime\u001b[49m\u001b[43m)\u001b[49m\n",
      "Cell \u001b[0;32mIn[19], line 45\u001b[0m, in \u001b[0;36mexecute_trino_commands\u001b[0;34m(from_datetime, to_datetime)\u001b[0m\n\u001b[1;32m     20\u001b[0m command \u001b[38;5;241m=\u001b[39m \u001b[38;5;124mf\u001b[39m\u001b[38;5;124m\"\u001b[39m\u001b[38;5;124m./trino.jar --user=thinhhoangdinh --password --server=https://trino.opensky-network.org --external-authentication --catalog \u001b[39m\u001b[38;5;124m'\u001b[39m\u001b[38;5;124mminio\u001b[39m\u001b[38;5;124m'\u001b[39m\u001b[38;5;124m --schema \u001b[39m\u001b[38;5;124m'\u001b[39m\u001b[38;5;124mosky\u001b[39m\u001b[38;5;124m'\u001b[39m\u001b[38;5;124m --execute=\u001b[39m\u001b[38;5;124m'\u001b[39m\u001b[38;5;124mSELECT \u001b[39m\u001b[38;5;130;01m\\\u001b[39;00m\n\u001b[1;32m     21\u001b[0m \u001b[38;5;124m    v.time, v.icao24, v.lat, v.lon, v.heading, v.callsign, v.geoaltitude \u001b[39m\u001b[38;5;130;01m\\\u001b[39;00m\n\u001b[1;32m     22\u001b[0m \u001b[38;5;124mFROM \u001b[39m\u001b[38;5;130;01m\\\u001b[39;00m\n\u001b[0;32m   (...)\u001b[0m\n\u001b[1;32m     41\u001b[0m \u001b[38;5;124m    AND v.hour = \u001b[39m\u001b[38;5;132;01m{\u001b[39;00mtimestamp\u001b[38;5;132;01m}\u001b[39;00m\u001b[38;5;124m \u001b[39m\u001b[38;5;130;01m\\\u001b[39;00m\n\u001b[1;32m     42\u001b[0m \u001b[38;5;124m    AND v.time - v.lastcontact <= 15;\u001b[39m\u001b[38;5;124m'\u001b[39m\u001b[38;5;124m --output-format CSV > \u001b[39m\u001b[38;5;132;01m{\u001b[39;00mtimestamp\u001b[38;5;132;01m}\u001b[39;00m\u001b[38;5;124m.csv\u001b[39m\u001b[38;5;124m\"\u001b[39m \n\u001b[1;32m     44\u001b[0m \u001b[38;5;66;03m# Execute the shell command\u001b[39;00m\n\u001b[0;32m---> 45\u001b[0m \u001b[43msubprocess\u001b[49m\u001b[38;5;241;43m.\u001b[39;49m\u001b[43mrun\u001b[49m\u001b[43m(\u001b[49m\u001b[43mcommand\u001b[49m\u001b[43m,\u001b[49m\u001b[43m \u001b[49m\u001b[43mshell\u001b[49m\u001b[38;5;241;43m=\u001b[39;49m\u001b[38;5;28;43;01mTrue\u001b[39;49;00m\u001b[43m)\u001b[49m\n",
      "File \u001b[0;32m/opt/anaconda3/envs/xolive/lib/python3.10/subprocess.py:505\u001b[0m, in \u001b[0;36mrun\u001b[0;34m(input, capture_output, timeout, check, *popenargs, **kwargs)\u001b[0m\n\u001b[1;32m    503\u001b[0m \u001b[38;5;28;01mwith\u001b[39;00m Popen(\u001b[38;5;241m*\u001b[39mpopenargs, \u001b[38;5;241m*\u001b[39m\u001b[38;5;241m*\u001b[39mkwargs) \u001b[38;5;28;01mas\u001b[39;00m process:\n\u001b[1;32m    504\u001b[0m     \u001b[38;5;28;01mtry\u001b[39;00m:\n\u001b[0;32m--> 505\u001b[0m         stdout, stderr \u001b[38;5;241m=\u001b[39m \u001b[43mprocess\u001b[49m\u001b[38;5;241;43m.\u001b[39;49m\u001b[43mcommunicate\u001b[49m\u001b[43m(\u001b[49m\u001b[38;5;28;43minput\u001b[39;49m\u001b[43m,\u001b[49m\u001b[43m \u001b[49m\u001b[43mtimeout\u001b[49m\u001b[38;5;241;43m=\u001b[39;49m\u001b[43mtimeout\u001b[49m\u001b[43m)\u001b[49m\n\u001b[1;32m    506\u001b[0m     \u001b[38;5;28;01mexcept\u001b[39;00m TimeoutExpired \u001b[38;5;28;01mas\u001b[39;00m exc:\n\u001b[1;32m    507\u001b[0m         process\u001b[38;5;241m.\u001b[39mkill()\n",
      "File \u001b[0;32m/opt/anaconda3/envs/xolive/lib/python3.10/subprocess.py:1146\u001b[0m, in \u001b[0;36mPopen.communicate\u001b[0;34m(self, input, timeout)\u001b[0m\n\u001b[1;32m   1144\u001b[0m         stderr \u001b[38;5;241m=\u001b[39m \u001b[38;5;28mself\u001b[39m\u001b[38;5;241m.\u001b[39mstderr\u001b[38;5;241m.\u001b[39mread()\n\u001b[1;32m   1145\u001b[0m         \u001b[38;5;28mself\u001b[39m\u001b[38;5;241m.\u001b[39mstderr\u001b[38;5;241m.\u001b[39mclose()\n\u001b[0;32m-> 1146\u001b[0m     \u001b[38;5;28;43mself\u001b[39;49m\u001b[38;5;241;43m.\u001b[39;49m\u001b[43mwait\u001b[49m\u001b[43m(\u001b[49m\u001b[43m)\u001b[49m\n\u001b[1;32m   1147\u001b[0m \u001b[38;5;28;01melse\u001b[39;00m:\n\u001b[1;32m   1148\u001b[0m     \u001b[38;5;28;01mif\u001b[39;00m timeout \u001b[38;5;129;01mis\u001b[39;00m \u001b[38;5;129;01mnot\u001b[39;00m \u001b[38;5;28;01mNone\u001b[39;00m:\n",
      "File \u001b[0;32m/opt/anaconda3/envs/xolive/lib/python3.10/subprocess.py:1209\u001b[0m, in \u001b[0;36mPopen.wait\u001b[0;34m(self, timeout)\u001b[0m\n\u001b[1;32m   1207\u001b[0m     endtime \u001b[38;5;241m=\u001b[39m _time() \u001b[38;5;241m+\u001b[39m timeout\n\u001b[1;32m   1208\u001b[0m \u001b[38;5;28;01mtry\u001b[39;00m:\n\u001b[0;32m-> 1209\u001b[0m     \u001b[38;5;28;01mreturn\u001b[39;00m \u001b[38;5;28;43mself\u001b[39;49m\u001b[38;5;241;43m.\u001b[39;49m\u001b[43m_wait\u001b[49m\u001b[43m(\u001b[49m\u001b[43mtimeout\u001b[49m\u001b[38;5;241;43m=\u001b[39;49m\u001b[43mtimeout\u001b[49m\u001b[43m)\u001b[49m\n\u001b[1;32m   1210\u001b[0m \u001b[38;5;28;01mexcept\u001b[39;00m \u001b[38;5;167;01mKeyboardInterrupt\u001b[39;00m:\n\u001b[1;32m   1211\u001b[0m     \u001b[38;5;66;03m# https://bugs.python.org/issue25942\u001b[39;00m\n\u001b[1;32m   1212\u001b[0m     \u001b[38;5;66;03m# The first keyboard interrupt waits briefly for the child to\u001b[39;00m\n\u001b[1;32m   1213\u001b[0m     \u001b[38;5;66;03m# exit under the common assumption that it also received the ^C\u001b[39;00m\n\u001b[1;32m   1214\u001b[0m     \u001b[38;5;66;03m# generated SIGINT and will exit rapidly.\u001b[39;00m\n\u001b[1;32m   1215\u001b[0m     \u001b[38;5;28;01mif\u001b[39;00m timeout \u001b[38;5;129;01mis\u001b[39;00m \u001b[38;5;129;01mnot\u001b[39;00m \u001b[38;5;28;01mNone\u001b[39;00m:\n",
      "File \u001b[0;32m/opt/anaconda3/envs/xolive/lib/python3.10/subprocess.py:1959\u001b[0m, in \u001b[0;36mPopen._wait\u001b[0;34m(self, timeout)\u001b[0m\n\u001b[1;32m   1957\u001b[0m \u001b[38;5;28;01mif\u001b[39;00m \u001b[38;5;28mself\u001b[39m\u001b[38;5;241m.\u001b[39mreturncode \u001b[38;5;129;01mis\u001b[39;00m \u001b[38;5;129;01mnot\u001b[39;00m \u001b[38;5;28;01mNone\u001b[39;00m:\n\u001b[1;32m   1958\u001b[0m     \u001b[38;5;28;01mbreak\u001b[39;00m  \u001b[38;5;66;03m# Another thread waited.\u001b[39;00m\n\u001b[0;32m-> 1959\u001b[0m (pid, sts) \u001b[38;5;241m=\u001b[39m \u001b[38;5;28;43mself\u001b[39;49m\u001b[38;5;241;43m.\u001b[39;49m\u001b[43m_try_wait\u001b[49m\u001b[43m(\u001b[49m\u001b[38;5;241;43m0\u001b[39;49m\u001b[43m)\u001b[49m\n\u001b[1;32m   1960\u001b[0m \u001b[38;5;66;03m# Check the pid and loop as waitpid has been known to\u001b[39;00m\n\u001b[1;32m   1961\u001b[0m \u001b[38;5;66;03m# return 0 even without WNOHANG in odd situations.\u001b[39;00m\n\u001b[1;32m   1962\u001b[0m \u001b[38;5;66;03m# http://bugs.python.org/issue14396.\u001b[39;00m\n\u001b[1;32m   1963\u001b[0m \u001b[38;5;28;01mif\u001b[39;00m pid \u001b[38;5;241m==\u001b[39m \u001b[38;5;28mself\u001b[39m\u001b[38;5;241m.\u001b[39mpid:\n",
      "File \u001b[0;32m/opt/anaconda3/envs/xolive/lib/python3.10/subprocess.py:1917\u001b[0m, in \u001b[0;36mPopen._try_wait\u001b[0;34m(self, wait_flags)\u001b[0m\n\u001b[1;32m   1915\u001b[0m \u001b[38;5;250m\u001b[39m\u001b[38;5;124;03m\"\"\"All callers to this function MUST hold self._waitpid_lock.\"\"\"\u001b[39;00m\n\u001b[1;32m   1916\u001b[0m \u001b[38;5;28;01mtry\u001b[39;00m:\n\u001b[0;32m-> 1917\u001b[0m     (pid, sts) \u001b[38;5;241m=\u001b[39m \u001b[43mos\u001b[49m\u001b[38;5;241;43m.\u001b[39;49m\u001b[43mwaitpid\u001b[49m\u001b[43m(\u001b[49m\u001b[38;5;28;43mself\u001b[39;49m\u001b[38;5;241;43m.\u001b[39;49m\u001b[43mpid\u001b[49m\u001b[43m,\u001b[49m\u001b[43m \u001b[49m\u001b[43mwait_flags\u001b[49m\u001b[43m)\u001b[49m\n\u001b[1;32m   1918\u001b[0m \u001b[38;5;28;01mexcept\u001b[39;00m \u001b[38;5;167;01mChildProcessError\u001b[39;00m:\n\u001b[1;32m   1919\u001b[0m     \u001b[38;5;66;03m# This happens if SIGCLD is set to be ignored or waiting\u001b[39;00m\n\u001b[1;32m   1920\u001b[0m     \u001b[38;5;66;03m# for child processes has otherwise been disabled for our\u001b[39;00m\n\u001b[1;32m   1921\u001b[0m     \u001b[38;5;66;03m# process.  This child is dead, we can't get the status.\u001b[39;00m\n\u001b[1;32m   1922\u001b[0m     pid \u001b[38;5;241m=\u001b[39m \u001b[38;5;28mself\u001b[39m\u001b[38;5;241m.\u001b[39mpid\n",
      "\u001b[0;31mKeyboardInterrupt\u001b[0m: "
     ]
    }
   ],
   "source": [
    "# Example usage\n",
    "from_datetime = datetime.datetime(2024, 5, 24, 3, 0, 0)  # Adjust as needed\n",
    "to_datetime = datetime.datetime(2024, 5, 24, 4, 0, 0)    # Adjust as needed\n",
    "\n",
    "execute_trino_commands(from_datetime, to_datetime)"
   ]
  },
  {
   "cell_type": "code",
   "execution_count": 22,
   "metadata": {},
   "outputs": [
    {
     "name": "stdout",
     "output_type": "stream",
     "text": [
      "{'access_token': 'eyJhbGciOiJSUzI1NiIsInR5cCIgOiAiSldUIiwia2lkIiA6ICJ0SVIwSDB0bmNEZTlKYmp4dFctWEtqZ0RYSWExNnR5eU5DWHJxUzJQNkRjIn0.eyJleHAiOjE3MjUzNTY4NjUsImlhdCI6MTcyNTM0OTY2NSwianRpIjoiMGNiYzYxZTEtNDI2Mi00MDA3LTg5MTQtZTgxN2EzNjRmM2M5IiwiaXNzIjoiaHR0cHM6Ly9hdXRoLm9wZW5za3ktbmV0d29yay5vcmcvYXV0aC9yZWFsbXMvb3BlbnNreS1uZXR3b3JrIiwiYXVkIjoiYWNjb3VudCIsInN1YiI6IjEzYmYwYmQwLTMzOTktNDA2NS04ZGFiLTIyYzI0Njg1N2E4MSIsInR5cCI6IkJlYXJlciIsImF6cCI6InRyaW5vLWNsaWVudCIsInNlc3Npb25fc3RhdGUiOiIxZjQ2MzhhMy0wYjk4LTRmYzctOWNlOC1jZDBiOWJiMGI1N2UiLCJyZWFsbV9hY2Nlc3MiOnsicm9sZXMiOlsib2ZmbGluZV9hY2Nlc3MiLCJ1bWFfYXV0aG9yaXphdGlvbiIsImRlZmF1bHQtcm9sZXMtb3BlbnNreS1uZXR3b3JrIl19LCJyZXNvdXJjZV9hY2Nlc3MiOnsiYWNjb3VudCI6eyJyb2xlcyI6WyJtYW5hZ2UtYWNjb3VudCIsIm1hbmFnZS1hY2NvdW50LWxpbmtzIiwidmlldy1wcm9maWxlIl19fSwic2NvcGUiOiJwcm9maWxlIGdyb3VwcyBlbWFpbCIsInNpZCI6IjFmNDYzOGEzLTBiOTgtNGZjNy05Y2U4LWNkMGI5YmIwYjU3ZSIsImVtYWlsX3ZlcmlmaWVkIjp0cnVlLCJuYW1lIjoiVGhpbmggSG9hbmciLCJncm91cHMiOlsiL29wZW5za3kvdHJpbm8vcmVhZG9ubHkiXSwicHJlZmVycmVkX3VzZXJuYW1lIjoidGhpbmhob2FuZ2RpbmgiLCJnaXZlbl9uYW1lIjoiVGhpbmgiLCJmYW1pbHlfbmFtZSI6IkhvYW5nIiwiZW1haWwiOiJ0aGluaC5ob2FuZ2RpbmhAZW5hYy5mciJ9.GeiFz_Num5kgHA6BwosqilwlKUmdpi8fKsaPIO06PotBWLmCkrl7Y6g-os60xyILuvd31W1T-pT0-llwTPyO1PBs0VsCsOPa1mgrRyFE5uAa-QFGV_MuaLcd6BGeTR6Ss9E2vrJYcmNu630uKYu3UJOYjeCA0whkUccAUKiBiGrQohwlec0Ryz1I67rEruENt6sgV3urrywURJ8BDtJPbMnqdrG_FpMgqaWl83PEsN2aypL9Oq36fOOT68gZONgvx5s1SU6SUIDKzEVRL_V8JhBzDaY8fWJNuHaZYAsPTyUoOV_ChUSIeyvek5nm8BFsH8fjc-tUvfSXXgpZUd5jpg', 'expires_in': 7200, 'refresh_expires_in': 36000, 'refresh_token': 'eyJhbGciOiJIUzI1NiIsInR5cCIgOiAiSldUIiwia2lkIiA6ICJiMGU5NWQwYi04M2JlLTRkOTItYTJjZS0wOGI1ZTNmNTlmY2YifQ.eyJleHAiOjE3MjUzODU2NjUsImlhdCI6MTcyNTM0OTY2NSwianRpIjoiNGQzZTUzYzUtNGMwMi00ODY0LTlmYTYtNDM5ZWE0ODFkOTM0IiwiaXNzIjoiaHR0cHM6Ly9hdXRoLm9wZW5za3ktbmV0d29yay5vcmcvYXV0aC9yZWFsbXMvb3BlbnNreS1uZXR3b3JrIiwiYXVkIjoiaHR0cHM6Ly9hdXRoLm9wZW5za3ktbmV0d29yay5vcmcvYXV0aC9yZWFsbXMvb3BlbnNreS1uZXR3b3JrIiwic3ViIjoiMTNiZjBiZDAtMzM5OS00MDY1LThkYWItMjJjMjQ2ODU3YTgxIiwidHlwIjoiUmVmcmVzaCIsImF6cCI6InRyaW5vLWNsaWVudCIsInNlc3Npb25fc3RhdGUiOiIxZjQ2MzhhMy0wYjk4LTRmYzctOWNlOC1jZDBiOWJiMGI1N2UiLCJzY29wZSI6InByb2ZpbGUgZ3JvdXBzIGVtYWlsIiwic2lkIjoiMWY0NjM4YTMtMGI5OC00ZmM3LTljZTgtY2QwYjliYjBiNTdlIn0.sctf40-POdPdkZVNxdTBF-SUvfhKdWuwr-1NUUAwd0s', 'token_type': 'Bearer', 'not-before-policy': 1649741894, 'session_state': '1f4638a3-0b98-4fc7-9ce8-cd0b9bb0b57e', 'scope': 'profile groups email'}\n"
     ]
    }
   ],
   "source": [
    "import requests \n",
    "\n",
    "result = requests.post(\n",
    "    \"https://auth.opensky-network.org/auth/realms/opensky-network/protocol/openid-connect/token\",\n",
    "    data={\n",
    "        \"client_id\": \"trino-client\",\n",
    "        \"grant_type\": \"password\",\n",
    "        \"username\": \"thinhhoangdinh\",\n",
    "        \"password\": \"iQ6^yrwe7o3m\",\n",
    "    }\n",
    ")\n",
    "\n",
    "print(result.json())"
   ]
  },
  {
   "cell_type": "markdown",
   "metadata": {},
   "source": []
  }
 ],
 "metadata": {
  "kernelspec": {
   "display_name": "xolive",
   "language": "python",
   "name": "python3"
  },
  "language_info": {
   "codemirror_mode": {
    "name": "ipython",
    "version": 3
   },
   "file_extension": ".py",
   "mimetype": "text/x-python",
   "name": "python",
   "nbconvert_exporter": "python",
   "pygments_lexer": "ipython3",
   "version": "3.10.14"
  }
 },
 "nbformat": 4,
 "nbformat_minor": 2
}
