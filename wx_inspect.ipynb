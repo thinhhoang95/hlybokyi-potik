{
 "cells": [
  {
   "cell_type": "code",
   "execution_count": 6,
   "metadata": {},
   "outputs": [
    {
     "name": "stdout",
     "output_type": "stream",
     "text": [
      "Found 2649 .nc files in data/weather/cdfs\n",
      "First few files:\n",
      "  - 1672790400\n",
      "  - 1672801200\n",
      "  - 1672812000\n",
      "  - 1672822800\n",
      "  - 1672833600\n"
     ]
    }
   ],
   "source": [
    "import os\n",
    "import glob\n",
    "\n",
    "# Get a list of all .nc files in the data/weather/cdfs directory\n",
    "nc_files = glob.glob('data/weather/cdfs/*.nc')\n",
    "\n",
    "# Print the number of files found\n",
    "print(f\"Found {len(nc_files)} .nc files in data/weather/cdfs\")\n",
    "\n",
    "# Only keep the filename from the path\n",
    "nc_files = [os.path.basename(file) for file in nc_files]\n",
    "\n",
    "# Drop the .nc extension from nc_files\n",
    "nc_files = [os.path.splitext(file)[0] for file in nc_files]\n",
    "\n",
    "# Sort the files ascending\n",
    "nc_files.sort()\n",
    "\n",
    "# Print the first few files\n",
    "print(\"First few files:\")\n",
    "for file in nc_files[:5]:\n",
    "    print(f\"  - {file}\")\n",
    "\n"
   ]
  },
  {
   "cell_type": "code",
   "execution_count": 10,
   "metadata": {},
   "outputs": [
    {
     "name": "stdout",
     "output_type": "stream",
     "text": [
      "Found 5 discrepancies in the data:\n",
      "  Position 2282: 1697425200 → 1697446800, diff = 21600 (expected 10800)\n",
      "  Position 2385: 1698548400 → 1698570000, diff = 21600 (expected 10800)\n",
      "  Position 2414: 1698872400 → 1698894000, diff = 21600 (expected 10800)\n",
      "  Position 2447: 1699239600 → 1699272000, diff = 32400 (expected 10800)\n",
      "  Position 2451: 1699304400 → 1699336800, diff = 32400 (expected 10800)\n",
      "Found 5 discrepancies in the data:\n"
     ]
    }
   ],
   "source": [
    "def check_weather_data(file_list):\n",
    "    \"\"\"\n",
    "    Check that every two consecutive entries in file_list are 10800 apart.\n",
    "    Returns a list of positions where there's a discrepancy.\n",
    "    \"\"\"\n",
    "    discrepancies = []\n",
    "    \n",
    "    # Extract timestamps from filenames (assuming format like 'weather_1234567890')\n",
    "    timestamps = []\n",
    "    for file in file_list:\n",
    "        # Extract the numeric part of the filename (timestamp)\n",
    "        try:\n",
    "            timestamp = int(file)\n",
    "            timestamps.append(timestamp)\n",
    "        except (IndexError, ValueError):\n",
    "            print(f\"Warning: Could not extract timestamp from {file}\")\n",
    "            continue\n",
    "    \n",
    "    # Check for discrepancies between consecutive timestamps\n",
    "    for i in range(1, len(timestamps)):\n",
    "        diff = timestamps[i] - timestamps[i-1]\n",
    "        if diff != 10800:  # Expected difference of 10800 seconds (3 hours)\n",
    "            discrepancies.append({\n",
    "                'position': i,\n",
    "                'file1': file_list[i-1],\n",
    "                'file2': file_list[i],\n",
    "                'timestamp1': timestamps[i-1],\n",
    "                'timestamp2': timestamps[i],\n",
    "                'difference': diff,\n",
    "                'expected': 10800\n",
    "            })\n",
    "    \n",
    "    # Print summary of discrepancies\n",
    "    if discrepancies:\n",
    "        print(f\"Found {len(discrepancies)} discrepancies in the data:\")\n",
    "        for d in discrepancies:\n",
    "            print(f\"  Position {d['position']}: {d['file1']} → {d['file2']}, diff = {d['difference']} (expected {d['expected']})\")\n",
    "    else:\n",
    "        print(\"No discrepancies found. All files are 10800 seconds apart.\")\n",
    "    \n",
    "    return discrepancies\n",
    "\n",
    "discrepancies = check_weather_data(nc_files)\n",
    "print(f'Found {len(discrepancies)} discrepancies in the data:')\n"
   ]
  },
  {
   "cell_type": "code",
   "execution_count": null,
   "metadata": {},
   "outputs": [],
   "source": []
  }
 ],
 "metadata": {
  "kernelspec": {
   "display_name": "ukraine",
   "language": "python",
   "name": "python3"
  },
  "language_info": {
   "codemirror_mode": {
    "name": "ipython",
    "version": 3
   },
   "file_extension": ".py",
   "mimetype": "text/x-python",
   "name": "python",
   "nbconvert_exporter": "python",
   "pygments_lexer": "ipython3",
   "version": "3.12.3"
  }
 },
 "nbformat": 4,
 "nbformat_minor": 2
}
